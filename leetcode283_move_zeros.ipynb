{
  "nbformat": 4,
  "nbformat_minor": 0,
  "metadata": {
    "colab": {
      "provenance": [],
      "authorship_tag": "ABX9TyOEVvujqrf3M+9sxMA9T06m"
    },
    "kernelspec": {
      "name": "python3",
      "display_name": "Python 3"
    },
    "language_info": {
      "name": "python"
    }
  },
  "cells": [
    {
      "cell_type": "markdown",
      "source": [
        "### Move zeros\n",
        "This exercise requires that, given an array with different numbers including zeros, you to move the zeros to the end of the array.\n",
        "\n",
        "This algorithm has to be done in-place (without creating a new array) and should minimize the total number of operations"
      ],
      "metadata": {
        "id": "V9gT5nnLSULq"
      }
    },
    {
      "cell_type": "code",
      "execution_count": 5,
      "metadata": {
        "id": "54kkzlDXSHYw"
      },
      "outputs": [],
      "source": [
        "def move_zeros(nums: list[int]) -> None:\n",
        "  prev_idx = 0\n",
        "  for i in range(len(nums)):\n",
        "      if nums[i] != 0:\n",
        "          hold = nums[prev_idx]\n",
        "          nums[prev_idx] = nums[i]\n",
        "          nums[i] = hold\n",
        "          prev_idx+=1"
      ]
    },
    {
      "cell_type": "code",
      "source": [
        "test1 = [0, 1, 0, 3, 12]\n",
        "\n",
        "move_zeros(test1)\n",
        "\n",
        "test1"
      ],
      "metadata": {
        "colab": {
          "base_uri": "https://localhost:8080/"
        },
        "id": "xl6gJVauWJdW",
        "outputId": "49e6bf26-ec1a-48d3-f475-8f246ebc80f2"
      },
      "execution_count": 6,
      "outputs": [
        {
          "output_type": "execute_result",
          "data": {
            "text/plain": [
              "[1, 3, 12, 0, 0]"
            ]
          },
          "metadata": {},
          "execution_count": 6
        }
      ]
    },
    {
      "cell_type": "code",
      "source": [
        "test2 = [10, 0, 0, 5, 456, 1, 0, 3, 12]\n",
        "\n",
        "move_zeros(test2)\n",
        "\n",
        "test2"
      ],
      "metadata": {
        "colab": {
          "base_uri": "https://localhost:8080/"
        },
        "id": "_wg0h-NkWlka",
        "outputId": "c716a449-40c1-4df6-95de-def37b72045e"
      },
      "execution_count": 9,
      "outputs": [
        {
          "output_type": "execute_result",
          "data": {
            "text/plain": [
              "[10, 5, 456, 1, 3, 12, 0, 0, 0]"
            ]
          },
          "metadata": {},
          "execution_count": 9
        }
      ]
    },
    {
      "cell_type": "code",
      "source": [
        "test3 = [10, 0, 0, 5, 456, 1, 0, 3, 12, 10, 0, 0, 5, 456, 1, 0, 3, 12, 10, 0, 0, 5, 456, 1, 0, 3, 12, 10, 0, 0, 5, 456, 1, 0, 3, 12, 10, 0, 0, 5, 456, 1, 0, 3, 12 ]\n",
        "\n",
        "move_zeros(test3)\n",
        "\n",
        "test3"
      ],
      "metadata": {
        "colab": {
          "base_uri": "https://localhost:8080/"
        },
        "id": "r2xxqaLSY6dY",
        "outputId": "9e7958d1-35b1-4206-a031-8d3f5321eb47"
      },
      "execution_count": 10,
      "outputs": [
        {
          "output_type": "execute_result",
          "data": {
            "text/plain": [
              "[10,\n",
              " 5,\n",
              " 456,\n",
              " 1,\n",
              " 3,\n",
              " 12,\n",
              " 10,\n",
              " 5,\n",
              " 456,\n",
              " 1,\n",
              " 3,\n",
              " 12,\n",
              " 10,\n",
              " 5,\n",
              " 456,\n",
              " 1,\n",
              " 3,\n",
              " 12,\n",
              " 10,\n",
              " 5,\n",
              " 456,\n",
              " 1,\n",
              " 3,\n",
              " 12,\n",
              " 10,\n",
              " 5,\n",
              " 456,\n",
              " 1,\n",
              " 3,\n",
              " 12,\n",
              " 0,\n",
              " 0,\n",
              " 0,\n",
              " 0,\n",
              " 0,\n",
              " 0,\n",
              " 0,\n",
              " 0,\n",
              " 0,\n",
              " 0,\n",
              " 0,\n",
              " 0,\n",
              " 0,\n",
              " 0,\n",
              " 0]"
            ]
          },
          "metadata": {},
          "execution_count": 10
        }
      ]
    }
  ]
}