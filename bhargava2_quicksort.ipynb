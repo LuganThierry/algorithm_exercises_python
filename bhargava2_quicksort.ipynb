{
  "nbformat": 4,
  "nbformat_minor": 0,
  "metadata": {
    "colab": {
      "provenance": [],
      "authorship_tag": "ABX9TyPzbmAHM8R5JcukVqxe2jWT"
    },
    "kernelspec": {
      "name": "python3",
      "display_name": "Python 3"
    },
    "language_info": {
      "name": "python"
    }
  },
  "cells": [
    {
      "cell_type": "markdown",
      "source": [
        "## Quicksort\n",
        "\n",
        "This exercise requires that, given a list of numbers, you sort them using quicksort algorithm.\n",
        "\n",
        "This algorithm picks a pivot and recursevly sort the parts of items less and greater than the pivot.\n",
        "\n",
        "Besides that, I created a second quicksort function that picks the middle index as pivot instead of the first item.\n",
        "\n",
        "For both functions, I tested using numbers and letters. Python allows to compare letters considering alfabetical order."
      ],
      "metadata": {
        "id": "osz1TKG1GUn4"
      }
    },
    {
      "cell_type": "code",
      "execution_count": 31,
      "metadata": {
        "id": "Fkr9VT85GNlY"
      },
      "outputs": [],
      "source": [
        "def quicksort(num_list):\n",
        "\n",
        "    if len(num_list) < 2:\n",
        "        return num_list\n",
        "\n",
        "    pivot = num_list[0]\n",
        "\n",
        "    less_than = [num for num in num_list[1:] if num <= pivot]\n",
        "\n",
        "    greater_than = [num for num in num_list[1:] if num > pivot]\n",
        "\n",
        "    return quicksort(less_than) + [pivot] + quicksort(greater_than)"
      ]
    },
    {
      "cell_type": "code",
      "source": [
        "test_list1 = [10, 9, 8, 7, 6, 5, 4, 3, 2, 1, 0]\n",
        "test_list2 = [-10, 9, -8, 7, -6, 5, -4, 3, -2, 1, 0]\n",
        "test_list3 = [500, 600, 700, 20, 30, 40, 50000, 100000]\n",
        "test_list4 = [10, 10, 10, 12, 12, 12, 0, 2, 4, 6]\n",
        "test_list5 = [\"z\", \"a\", \"g\", \"b\", \"n\", \"w\"]\n",
        "test_list6 = [\"z\", \"a\", \"g\", \"b\", \"c\", \"y\", \"a\", \"z\", \"n\", \"w\"]"
      ],
      "metadata": {
        "id": "4aFaQ4VnI015"
      },
      "execution_count": 26,
      "outputs": []
    },
    {
      "cell_type": "code",
      "source": [
        "quicksort(test_list1)"
      ],
      "metadata": {
        "colab": {
          "base_uri": "https://localhost:8080/"
        },
        "id": "FUSrqc3ZJcXv",
        "outputId": "edae838d-6a40-4b9e-c74f-00047afee839"
      },
      "execution_count": 15,
      "outputs": [
        {
          "output_type": "execute_result",
          "data": {
            "text/plain": [
              "[0, 1, 2, 3, 4, 5, 6, 7, 8, 9, 10]"
            ]
          },
          "metadata": {},
          "execution_count": 15
        }
      ]
    },
    {
      "cell_type": "code",
      "source": [
        "quicksort(test_list2)"
      ],
      "metadata": {
        "colab": {
          "base_uri": "https://localhost:8080/"
        },
        "id": "iYPniReSJhvq",
        "outputId": "baa2b00e-f09c-4e9a-fc70-fb61f3170439"
      },
      "execution_count": 16,
      "outputs": [
        {
          "output_type": "execute_result",
          "data": {
            "text/plain": [
              "[-10, -8, -6, -4, -2, 0, 1, 3, 5, 7, 9]"
            ]
          },
          "metadata": {},
          "execution_count": 16
        }
      ]
    },
    {
      "cell_type": "code",
      "source": [
        "quicksort(test_list3)"
      ],
      "metadata": {
        "colab": {
          "base_uri": "https://localhost:8080/"
        },
        "id": "M2yzkpj1JhjS",
        "outputId": "fbbfc9d7-ced1-4d15-ee41-498a6ccc6a71"
      },
      "execution_count": 17,
      "outputs": [
        {
          "output_type": "execute_result",
          "data": {
            "text/plain": [
              "[20, 30, 40, 500, 600, 700, 50000, 100000]"
            ]
          },
          "metadata": {},
          "execution_count": 17
        }
      ]
    },
    {
      "cell_type": "code",
      "source": [
        "quicksort(test_list4)"
      ],
      "metadata": {
        "colab": {
          "base_uri": "https://localhost:8080/"
        },
        "id": "rKlSZUJVJhV3",
        "outputId": "ad436d4e-72c7-45c0-9811-d34af1d6346f"
      },
      "execution_count": 18,
      "outputs": [
        {
          "output_type": "execute_result",
          "data": {
            "text/plain": [
              "[0, 2, 4, 6, 10, 10, 10, 12, 12, 12]"
            ]
          },
          "metadata": {},
          "execution_count": 18
        }
      ]
    },
    {
      "cell_type": "code",
      "source": [
        "quicksort(test_list5)"
      ],
      "metadata": {
        "colab": {
          "base_uri": "https://localhost:8080/"
        },
        "id": "kteQp_RqUdf8",
        "outputId": "3ffb0921-95a2-45b4-c6b3-778ce6b200ed"
      },
      "execution_count": 27,
      "outputs": [
        {
          "output_type": "execute_result",
          "data": {
            "text/plain": [
              "['a', 'b', 'g', 'n', 'w', 'z']"
            ]
          },
          "metadata": {},
          "execution_count": 27
        }
      ]
    },
    {
      "cell_type": "code",
      "source": [
        "quicksort(test_list6)"
      ],
      "metadata": {
        "colab": {
          "base_uri": "https://localhost:8080/"
        },
        "id": "MT_7id_MUf5I",
        "outputId": "4ac7ea41-92f3-4b14-a02e-522942cb344f"
      },
      "execution_count": 28,
      "outputs": [
        {
          "output_type": "execute_result",
          "data": {
            "text/plain": [
              "['a', 'a', 'b', 'c', 'g', 'n', 'w', 'y', 'z', 'z']"
            ]
          },
          "metadata": {},
          "execution_count": 28
        }
      ]
    },
    {
      "cell_type": "code",
      "source": [
        "def quicksort2(num_list):\n",
        "\n",
        "    if len(num_list) < 2:\n",
        "        return num_list\n",
        "\n",
        "    middle_index = len(num_list) //2\n",
        "    pivot = num_list[middle_index]\n",
        "\n",
        "    less_than = []\n",
        "    greater_than = []\n",
        "\n",
        "    for idx, num in enumerate(num_list):\n",
        "\n",
        "        if idx == middle_index:\n",
        "            continue\n",
        "\n",
        "        if num <= pivot:\n",
        "            less_than.append(num)\n",
        "\n",
        "        else:\n",
        "            greater_than.append(num)\n",
        "\n",
        "    return quicksort2(less_than) + [pivot] + quicksort2(greater_than)"
      ],
      "metadata": {
        "id": "PAIAqxS0SPTR"
      },
      "execution_count": 19,
      "outputs": []
    },
    {
      "cell_type": "code",
      "source": [
        "quicksort2(test_list1)"
      ],
      "metadata": {
        "colab": {
          "base_uri": "https://localhost:8080/"
        },
        "id": "MqADEu9GT2Cx",
        "outputId": "58cb9798-5ebe-4d87-dc10-3899565a6cb7"
      },
      "execution_count": 20,
      "outputs": [
        {
          "output_type": "execute_result",
          "data": {
            "text/plain": [
              "[0, 1, 2, 3, 4, 5, 6, 7, 8, 9, 10]"
            ]
          },
          "metadata": {},
          "execution_count": 20
        }
      ]
    },
    {
      "cell_type": "code",
      "source": [
        "quicksort2(test_list2)"
      ],
      "metadata": {
        "colab": {
          "base_uri": "https://localhost:8080/"
        },
        "id": "uaIxKRjjT39j",
        "outputId": "c17a14cf-e205-440c-e614-663e950d67d6"
      },
      "execution_count": 21,
      "outputs": [
        {
          "output_type": "execute_result",
          "data": {
            "text/plain": [
              "[-10, -8, -6, -4, -2, 0, 1, 3, 5, 7, 9]"
            ]
          },
          "metadata": {},
          "execution_count": 21
        }
      ]
    },
    {
      "cell_type": "code",
      "source": [
        "quicksort2(test_list3)"
      ],
      "metadata": {
        "colab": {
          "base_uri": "https://localhost:8080/"
        },
        "id": "mPw-_rtRT32V",
        "outputId": "5d9cb57d-75e5-433c-81f6-7e592a616ce2"
      },
      "execution_count": 22,
      "outputs": [
        {
          "output_type": "execute_result",
          "data": {
            "text/plain": [
              "[20, 30, 40, 500, 600, 700, 50000, 100000]"
            ]
          },
          "metadata": {},
          "execution_count": 22
        }
      ]
    },
    {
      "cell_type": "code",
      "source": [
        "quicksort2(test_list4)"
      ],
      "metadata": {
        "colab": {
          "base_uri": "https://localhost:8080/"
        },
        "id": "2HwUk5DFT3vu",
        "outputId": "a2ab1e36-b48d-4fa8-fb16-509a90bce064"
      },
      "execution_count": 23,
      "outputs": [
        {
          "output_type": "execute_result",
          "data": {
            "text/plain": [
              "[0, 2, 4, 6, 10, 10, 10, 12, 12, 12]"
            ]
          },
          "metadata": {},
          "execution_count": 23
        }
      ]
    },
    {
      "cell_type": "code",
      "source": [
        "quicksort(test_list5)"
      ],
      "metadata": {
        "colab": {
          "base_uri": "https://localhost:8080/"
        },
        "id": "hW0uPSqhUi34",
        "outputId": "84642d37-c27a-455a-f5c7-23ec107cdd25"
      },
      "execution_count": 29,
      "outputs": [
        {
          "output_type": "execute_result",
          "data": {
            "text/plain": [
              "['a', 'b', 'g', 'n', 'w', 'z']"
            ]
          },
          "metadata": {},
          "execution_count": 29
        }
      ]
    },
    {
      "cell_type": "code",
      "source": [
        "quicksort(test_list6)"
      ],
      "metadata": {
        "colab": {
          "base_uri": "https://localhost:8080/"
        },
        "id": "BReJ398yUiis",
        "outputId": "11e63979-90fc-4258-a0b3-107de59dbdb4"
      },
      "execution_count": 30,
      "outputs": [
        {
          "output_type": "execute_result",
          "data": {
            "text/plain": [
              "['a', 'a', 'b', 'c', 'g', 'n', 'w', 'y', 'z', 'z']"
            ]
          },
          "metadata": {},
          "execution_count": 30
        }
      ]
    }
  ]
}