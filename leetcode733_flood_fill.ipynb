{
  "nbformat": 4,
  "nbformat_minor": 0,
  "metadata": {
    "colab": {
      "provenance": [],
      "authorship_tag": "ABX9TyMkL1Dv9LmBpwj6gPT+m9A2"
    },
    "kernelspec": {
      "name": "python3",
      "display_name": "Python 3"
    },
    "language_info": {
      "name": "python"
    }
  },
  "cells": [
    {
      "cell_type": "markdown",
      "source": [
        "### Flood fill\n",
        "\n",
        "This exercise requires that, given a list of list, a starting position e a new value, you chance the starting point and positions connected to the starting point (up, down, left, right) to the new value.\n",
        "\n",
        "The action of filling positions to the new value stop if a position already has a different value to the starting value of the starting position."
      ],
      "metadata": {
        "id": "RXRmDf_GTWZP"
      }
    },
    {
      "cell_type": "code",
      "source": [
        "def flood_fill(image: list[list[int]], source_row: int, source_column: int, new_color: int) -> list[list[int]]:\n",
        "    if image == None or image[source_row][source_column] == new_color:\n",
        "        return image\n",
        "\n",
        "    fill(image, source_row, source_column, image[source_row][source_column], new_color)\n",
        "\n",
        "    return image\n",
        "\n",
        "def fill(image, source_row, source_column, initial_square, new_color):\n",
        "\n",
        "    if (source_row < 0\n",
        "        or source_row >= len(image)\n",
        "        or source_column < 0\n",
        "        or source_column >= len(image[0])\n",
        "        or image[source_row][source_column] != initial_square):\n",
        "\n",
        "        return\n",
        "\n",
        "    image[source_row][source_column]  = new_color\n",
        "\n",
        "    fill(image, source_row + 1, source_column, initial_square, new_color) # down\n",
        "    fill(image, source_row - 1, source_column, initial_square, new_color) # up\n",
        "    fill(image, source_row, source_column + 1, initial_square, new_color) # right\n",
        "    fill(image, source_row, source_column - 1, initial_square, new_color) # left"
      ],
      "metadata": {
        "id": "q9GJizS1TO3r"
      },
      "execution_count": 12,
      "outputs": []
    },
    {
      "cell_type": "code",
      "execution_count": 13,
      "metadata": {
        "colab": {
          "base_uri": "https://localhost:8080/"
        },
        "id": "ZfQNr48bS-Rd",
        "outputId": "790beb6b-db8a-4e71-9aa9-6b3364cffb4b"
      },
      "outputs": [
        {
          "output_type": "execute_result",
          "data": {
            "text/plain": [
              "[[2, 2, 2], [2, 2, 0], [2, 0, 1]]"
            ]
          },
          "metadata": {},
          "execution_count": 13
        }
      ],
      "source": [
        "image1 = [\n",
        "    [1, 1, 1],\n",
        "    [1, 1, 0],\n",
        "    [1, 0, 1]\n",
        "]\n",
        "\n",
        "flood_fill(image1, 1, 1, 2)"
      ]
    },
    {
      "cell_type": "code",
      "source": [
        "image1 = [\n",
        "    [1, 1, 1],\n",
        "    [1, 1, 0],\n",
        "    [1, 0, 1]\n",
        "]\n",
        "\n",
        "flood_fill(image1, 0, 1, 2)"
      ],
      "metadata": {
        "colab": {
          "base_uri": "https://localhost:8080/"
        },
        "id": "HoCkmlu9aOJL",
        "outputId": "10f95b51-562d-4e63-aa24-be4cf588b297"
      },
      "execution_count": 14,
      "outputs": [
        {
          "output_type": "execute_result",
          "data": {
            "text/plain": [
              "[[2, 2, 2], [2, 2, 0], [2, 0, 1]]"
            ]
          },
          "metadata": {},
          "execution_count": 14
        }
      ]
    },
    {
      "cell_type": "code",
      "source": [
        "image2 = [\n",
        "    [1, 0, 1],\n",
        "    [1, 1, 0],\n",
        "    [1, 0, 1]\n",
        "]\n",
        "\n",
        "flood_fill(image2, 0, 0, 2)"
      ],
      "metadata": {
        "colab": {
          "base_uri": "https://localhost:8080/"
        },
        "id": "uEgek3wmaYdR",
        "outputId": "797bbac8-6e58-49cf-865c-1dd503b5f0ea"
      },
      "execution_count": 15,
      "outputs": [
        {
          "output_type": "execute_result",
          "data": {
            "text/plain": [
              "[[2, 0, 1], [2, 2, 0], [2, 0, 1]]"
            ]
          },
          "metadata": {},
          "execution_count": 15
        }
      ]
    }
  ]
}