{
  "nbformat": 4,
  "nbformat_minor": 0,
  "metadata": {
    "colab": {
      "provenance": [],
      "authorship_tag": "ABX9TyOZqYelyNVCRkScC5aAa/FC"
    },
    "kernelspec": {
      "name": "python3",
      "display_name": "Python 3"
    },
    "language_info": {
      "name": "python"
    }
  },
  "cells": [
    {
      "cell_type": "markdown",
      "source": [
        "### Remove duplicates from sorted list\n",
        "\n",
        "This exercise requires that, given a list, you use a ListNode logic to remove duplicates from the list.\n",
        "\n",
        "The Leetcode question gives you the ListNode logic which turns a object in a list of nodes.\n",
        "\n",
        "Instead of creating each node for each item in the list I intendend to test, I created a function that populates the ListNode, turning a normal Python list into a ListNode.\n",
        "\n",
        "Then I created a function that prints the ListNode with arrows between each couple of items, ending with the word \"end\".\n"
      ],
      "metadata": {
        "id": "rgYsmgMN_kc_"
      }
    },
    {
      "cell_type": "code",
      "source": [
        "## logic given by the leetcode question\n",
        "class ListNode:\n",
        "    def __init__(self, val=0, next=None):\n",
        "        self.val = val\n",
        "        self.next = next"
      ],
      "metadata": {
        "id": "OdR_E5i9ZZIq"
      },
      "execution_count": 69,
      "outputs": []
    },
    {
      "cell_type": "code",
      "execution_count": 70,
      "metadata": {
        "id": "Xh_qscv3_dqD"
      },
      "outputs": [],
      "source": [
        "# function that removes duplicates from the ListNode\n",
        "def remove_duplicates(head: ListNode) -> ListNode:\n",
        "\n",
        "    cur = head\n",
        "\n",
        "    while cur and cur.next:\n",
        "\n",
        "        if cur.val == cur.next.val:\n",
        "\n",
        "            cur.next = cur.next.next\n",
        "\n",
        "        else:\n",
        "\n",
        "            cur = cur.next\n",
        "\n",
        "    return head"
      ]
    },
    {
      "cell_type": "code",
      "source": [
        "## function that turns a normal Python list into a ListNode\n",
        "def populate_listnode(list_):\n",
        "    if not list_:\n",
        "        return None\n",
        "\n",
        "    head = ListNode(list_[0])\n",
        "    current = head\n",
        "\n",
        "    for item in list_[1:]:\n",
        "        current.next = ListNode(item)\n",
        "        current = current.next\n",
        "\n",
        "    return head"
      ],
      "metadata": {
        "id": "f7gDrasOYOBL"
      },
      "execution_count": 71,
      "outputs": []
    },
    {
      "cell_type": "code",
      "source": [
        "# function that prints the unique nodes in a ListNode\n",
        "def print_linked_list(head: ListNode):\n",
        "    current = head\n",
        "    while current:\n",
        "        print(current.val, end=\" -> \")\n",
        "        current = current.next\n",
        "    print(\"end\")"
      ],
      "metadata": {
        "id": "KzzsbS2EZbMC"
      },
      "execution_count": 72,
      "outputs": []
    },
    {
      "cell_type": "code",
      "source": [
        "list_node1 = populate_listnode([1, 1 ,2])\n",
        "list_node2 = populate_listnode([1, 2, 3, 3])\n",
        "list_node3 = populate_listnode([1, 1, 2, 3, 3])\n",
        "list_node4 = populate_listnode([0, 1, 2, 3, 3, 4, 5, 6, 7, 7, 8])"
      ],
      "metadata": {
        "id": "nrZCHxZKBXJ-"
      },
      "execution_count": 73,
      "outputs": []
    },
    {
      "cell_type": "code",
      "source": [
        "res1 = remove_duplicates(list_node1)\n",
        "res2 = remove_duplicates(list_node2)\n",
        "res3 = remove_duplicates(list_node3)\n",
        "res4 = remove_duplicates(list_node4)"
      ],
      "metadata": {
        "id": "cGit48Uraev6"
      },
      "execution_count": 74,
      "outputs": []
    },
    {
      "cell_type": "code",
      "source": [
        "print_linked_list(res1)\n",
        "print_linked_list(res2)\n",
        "print_linked_list(res3)\n",
        "print_linked_list(res4)"
      ],
      "metadata": {
        "colab": {
          "base_uri": "https://localhost:8080/"
        },
        "id": "kfYdXEj3CCHw",
        "outputId": "a8bb98df-ea77-4c1f-c1a0-927be229d450"
      },
      "execution_count": 75,
      "outputs": [
        {
          "output_type": "stream",
          "name": "stdout",
          "text": [
            "1 -> 2 -> end\n",
            "1 -> 2 -> 3 -> end\n",
            "1 -> 2 -> 3 -> end\n",
            "0 -> 1 -> 2 -> 3 -> 4 -> 5 -> 6 -> 7 -> 8 -> end\n"
          ]
        }
      ]
    }
  ]
}