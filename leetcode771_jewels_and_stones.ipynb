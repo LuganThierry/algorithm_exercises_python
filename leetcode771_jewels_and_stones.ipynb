{
  "nbformat": 4,
  "nbformat_minor": 0,
  "metadata": {
    "colab": {
      "provenance": [],
      "authorship_tag": "ABX9TyPVw2BI+hsAmGsNgtCb8XYn"
    },
    "kernelspec": {
      "name": "python3",
      "display_name": "Python 3"
    },
    "language_info": {
      "name": "python"
    }
  },
  "cells": [
    {
      "cell_type": "markdown",
      "source": [
        "#### Jewels and stones\n",
        "\n",
        "This exercise requires that, given two strings (J and S), you compute the frequency of the characters in the first string (J) in the second string (S)."
      ],
      "metadata": {
        "id": "FluQ00Zt2u9i"
      }
    },
    {
      "cell_type": "code",
      "execution_count": 6,
      "metadata": {
        "id": "tYQyqyjm2lC5"
      },
      "outputs": [],
      "source": [
        "def num_jewels_in_stones(J: str, S: str) -> int:\n",
        "\n",
        "    check_j = set(J)\n",
        "\n",
        "    total = 0\n",
        "\n",
        "    for ch in S:\n",
        "\n",
        "        if ch in check_j:\n",
        "\n",
        "            total += 1\n",
        "\n",
        "    return total"
      ]
    },
    {
      "cell_type": "code",
      "source": [
        "print(num_jewels_in_stones('aA', 'aAAbbbb'))\n",
        "print(num_jewels_in_stones('z', 'ZZ'))\n",
        "print(num_jewels_in_stones('jewels', 'stones'))\n",
        "print(num_jewels_in_stones('frutas', 'maça e banana'))\n",
        "print(num_jewels_in_stones('pessoas', 'multidão'))\n",
        "print(num_jewels_in_stones('letras', 'livros'))"
      ],
      "metadata": {
        "colab": {
          "base_uri": "https://localhost:8080/"
        },
        "id": "8rbfq7N64a7Z",
        "outputId": "36adea94-e485-4f25-bb09-830a7e4befc1"
      },
      "execution_count": 9,
      "outputs": [
        {
          "output_type": "stream",
          "name": "stdout",
          "text": [
            "3\n",
            "0\n",
            "3\n",
            "5\n",
            "1\n",
            "3\n"
          ]
        }
      ]
    }
  ]
}