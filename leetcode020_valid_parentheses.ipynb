{
  "nbformat": 4,
  "nbformat_minor": 0,
  "metadata": {
    "colab": {
      "provenance": [],
      "authorship_tag": "ABX9TyMQ2r2IUlaxJvD6/j7ECz/q"
    },
    "kernelspec": {
      "name": "python3",
      "display_name": "Python 3"
    },
    "language_info": {
      "name": "python"
    }
  },
  "cells": [
    {
      "cell_type": "markdown",
      "source": [
        "### Valid parentheses"
      ],
      "metadata": {
        "id": "VmJxxI8YeAvk"
      }
    },
    {
      "cell_type": "code",
      "execution_count": 3,
      "metadata": {
        "id": "2YQty2Trd56Y"
      },
      "outputs": [],
      "source": [
        "def is_valid(s: str) -> bool:\n",
        "\n",
        "    if s == \"\":\n",
        "\n",
        "        return False\n",
        "\n",
        "    if len(s) < 2:\n",
        "\n",
        "        return False\n",
        "\n",
        "    pair_bkts = {\n",
        "        \"(\": \")\",\n",
        "        \"{\": \"}\",\n",
        "        \"[\": \"]\"\n",
        "    }\n",
        "\n",
        "    stk = []\n",
        "\n",
        "    for br in s:\n",
        "\n",
        "        if br in pair_bkts:\n",
        "\n",
        "            stk.append(br)\n",
        "\n",
        "        else:\n",
        "\n",
        "            if len(stk) == 0 or pair_bkts[stk.pop()] != br:\n",
        "\n",
        "                return False\n",
        "\n",
        "    if len(stk) > 0:\n",
        "\n",
        "        return False\n",
        "\n",
        "    return True"
      ]
    },
    {
      "cell_type": "code",
      "source": [
        "print(is_valid(\"\"))\n",
        "print(is_valid(\"()\"))\n",
        "print(is_valid(\"(]\"))\n",
        "print(is_valid(\"([])\"))\n",
        "print(is_valid(\"(){}[]\"))\n",
        "print(is_valid(\"({[]})\"))\n",
        "print(is_valid(\"({[]}\"))"
      ],
      "metadata": {
        "colab": {
          "base_uri": "https://localhost:8080/"
        },
        "id": "q3uwvb4yglab",
        "outputId": "c3efc6b5-4f8d-4703-fc10-7d4fc6e14c1a"
      },
      "execution_count": 6,
      "outputs": [
        {
          "output_type": "stream",
          "name": "stdout",
          "text": [
            "False\n",
            "True\n",
            "False\n",
            "True\n",
            "True\n",
            "True\n",
            "False\n"
          ]
        }
      ]
    }
  ]
}