{
  "nbformat": 4,
  "nbformat_minor": 0,
  "metadata": {
    "colab": {
      "provenance": [],
      "authorship_tag": "ABX9TyOrebpEPh1fqN9zmfecwyG1"
    },
    "kernelspec": {
      "name": "python3",
      "display_name": "Python 3"
    },
    "language_info": {
      "name": "python"
    }
  },
  "cells": [
    {
      "cell_type": "markdown",
      "source": [
        "### Valid parentheses\n",
        "\n",
        "This exercise requires that, given a string cotaining only \"(\", \")\", \"{\", \"}\", \"[\", \"]\" in diferent orders, you have to verify if whenever a braket is open it's also closed."
      ],
      "metadata": {
        "id": "VmJxxI8YeAvk"
      }
    },
    {
      "cell_type": "code",
      "execution_count": 3,
      "metadata": {
        "id": "2YQty2Trd56Y"
      },
      "outputs": [],
      "source": [
        "def is_valid(s: str) -> bool:\n",
        "\n",
        "    if s == \"\":\n",
        "\n",
        "        return False\n",
        "\n",
        "    if len(s) < 2:\n",
        "\n",
        "        return False\n",
        "\n",
        "    pair_bkts = {\n",
        "        \"(\": \")\",\n",
        "        \"{\": \"}\",\n",
        "        \"[\": \"]\"\n",
        "    }\n",
        "\n",
        "    stk = []\n",
        "\n",
        "    for br in s:\n",
        "\n",
        "        if br in pair_bkts:\n",
        "\n",
        "            stk.append(br)\n",
        "\n",
        "        else:\n",
        "\n",
        "            if len(stk) == 0 or pair_bkts[stk.pop()] != br:\n",
        "\n",
        "                return False\n",
        "\n",
        "    if len(stk) > 0:\n",
        "\n",
        "        return False\n",
        "\n",
        "    return True"
      ]
    },
    {
      "cell_type": "code",
      "source": [
        "bkt_list = [\n",
        "    \"\",\n",
        "    \"{\",\n",
        "    \"name\",\n",
        "    \"()\",\n",
        "    \"[]\",\n",
        "    \"(]\",\n",
        "    \"([])\",\n",
        "    \"({[]})\",\n",
        "    \"({}[])\",\n",
        "    \"(){}[]\",\n",
        "    \"([{}]\",\n",
        "    \"((((\",\n",
        "    \"({[]})(){}[]\",\n",
        "    \"({})([])\"\n",
        "]"
      ],
      "metadata": {
        "id": "7Hsam0gajtkY"
      },
      "execution_count": 18,
      "outputs": []
    },
    {
      "cell_type": "code",
      "source": [
        "for bkt in bkt_list:\n",
        "\n",
        "    print(f\"The sequence '{bkt}' is valid: {is_valid(bkt)}\")"
      ],
      "metadata": {
        "colab": {
          "base_uri": "https://localhost:8080/"
        },
        "id": "q3uwvb4yglab",
        "outputId": "801ba615-5e78-4422-8529-92d94348e342"
      },
      "execution_count": 19,
      "outputs": [
        {
          "output_type": "stream",
          "name": "stdout",
          "text": [
            "The sequence '' is valid: False\n",
            "The sequence '{' is valid: False\n",
            "The sequence 'name' is valid: False\n",
            "The sequence '()' is valid: True\n",
            "The sequence '[]' is valid: True\n",
            "The sequence '(]' is valid: False\n",
            "The sequence '([])' is valid: True\n",
            "The sequence '({[]})' is valid: True\n",
            "The sequence '({}[])' is valid: True\n",
            "The sequence '(){}[]' is valid: True\n",
            "The sequence '([{}]' is valid: False\n",
            "The sequence '((((' is valid: False\n",
            "The sequence '({[]})(){}[]' is valid: True\n",
            "The sequence '({})([])' is valid: True\n"
          ]
        }
      ]
    }
  ]
}