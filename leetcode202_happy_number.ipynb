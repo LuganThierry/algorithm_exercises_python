{
  "nbformat": 4,
  "nbformat_minor": 0,
  "metadata": {
    "colab": {
      "provenance": [],
      "authorship_tag": "ABX9TyMGCKM1u6OIcg6l8qgguN9R"
    },
    "kernelspec": {
      "name": "python3",
      "display_name": "Python 3"
    },
    "language_info": {
      "name": "python"
    }
  },
  "cells": [
    {
      "cell_type": "markdown",
      "source": [
        "### Happy number\n",
        "\n",
        "This exercise requieres you to write an algorithm that determines if an integer is a happy number.\n",
        "\n",
        "A happy number is a number that replaced by the sum of its square digits repeatly achieves the number one.\n",
        "\n",
        "The number that isn't happy, if replaced by the sums of its square digits, stabilishs a pattern that never comes to the number one.  "
      ],
      "metadata": {
        "id": "vXrFE-MoG7a0"
      }
    },
    {
      "cell_type": "code",
      "execution_count": 12,
      "metadata": {
        "id": "2oFiU2u3GHgu"
      },
      "outputs": [],
      "source": [
        "def is_happy(n: int) -> bool:\n",
        "\n",
        "    seen = set()\n",
        "\n",
        "    while n not in seen:\n",
        "\n",
        "        seen.add(n)\n",
        "\n",
        "        sqt_sum = 0\n",
        "\n",
        "        while n > 0:\n",
        "\n",
        "            sqt_sum += (n % 10) ** 2\n",
        "\n",
        "            n = ((n / 10) // 1)\n",
        "\n",
        "        if sqt_sum == 1:\n",
        "\n",
        "            return True\n",
        "\n",
        "        n = sqt_sum\n",
        "\n",
        "    return False"
      ]
    },
    {
      "cell_type": "code",
      "source": [
        "nums = [ 1, 5, 10, 15, 16, 19, 25, 32, 64, 80, 81, 84, 99, 139, 167, 193]"
      ],
      "metadata": {
        "id": "G7mAmbCkJSBZ"
      },
      "execution_count": 25,
      "outputs": []
    },
    {
      "cell_type": "code",
      "source": [
        "for n in nums:\n",
        "\n",
        "    print(f'{n} is a happy number? {is_happy(n)}')\n",
        "    print('--------------------------------------')"
      ],
      "metadata": {
        "colab": {
          "base_uri": "https://localhost:8080/"
        },
        "id": "5rpvfnhtJbM0",
        "outputId": "24743ea7-ea8a-4d75-cafd-a582c9f77f10"
      },
      "execution_count": 26,
      "outputs": [
        {
          "output_type": "stream",
          "name": "stdout",
          "text": [
            "1 is a happy number? True\n",
            "--------------------------------------\n",
            "5 is a happy number? False\n",
            "--------------------------------------\n",
            "10 is a happy number? True\n",
            "--------------------------------------\n",
            "15 is a happy number? False\n",
            "--------------------------------------\n",
            "16 is a happy number? False\n",
            "--------------------------------------\n",
            "19 is a happy number? True\n",
            "--------------------------------------\n",
            "25 is a happy number? False\n",
            "--------------------------------------\n",
            "32 is a happy number? True\n",
            "--------------------------------------\n",
            "64 is a happy number? False\n",
            "--------------------------------------\n",
            "80 is a happy number? False\n",
            "--------------------------------------\n",
            "81 is a happy number? False\n",
            "--------------------------------------\n",
            "84 is a happy number? False\n",
            "--------------------------------------\n",
            "99 is a happy number? False\n",
            "--------------------------------------\n",
            "139 is a happy number? True\n",
            "--------------------------------------\n",
            "167 is a happy number? True\n",
            "--------------------------------------\n",
            "193 is a happy number? True\n",
            "--------------------------------------\n"
          ]
        }
      ]
    }
  ]
}