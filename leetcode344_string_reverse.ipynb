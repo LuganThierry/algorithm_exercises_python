{
  "nbformat": 4,
  "nbformat_minor": 0,
  "metadata": {
    "colab": {
      "provenance": [],
      "authorship_tag": "ABX9TyPaAxCP81j25BD+KBHpHcSv"
    },
    "kernelspec": {
      "name": "python3",
      "display_name": "Python 3"
    },
    "language_info": {
      "name": "python"
    }
  },
  "cells": [
    {
      "cell_type": "markdown",
      "source": [
        "### String reverse\n",
        "\n",
        "This exercise requires that, given an string, you reverse its order.\n",
        "\n",
        "This algorithm has to be done in-place (without creating a new variable)\n"
      ],
      "metadata": {
        "id": "EjQih8fL0zLs"
      }
    },
    {
      "cell_type": "code",
      "execution_count": 38,
      "metadata": {
        "id": "o56f9EG90nCC"
      },
      "outputs": [],
      "source": [
        "def string_reverse(input_string):\n",
        "\n",
        "    input_string = list(input_string)\n",
        "\n",
        "    start_idx = 0\n",
        "    end_idx = len(input_string) - 1\n",
        "\n",
        "    while start_idx < end_idx:\n",
        "\n",
        "        hold = input_string[start_idx]\n",
        "\n",
        "        input_string[start_idx] = input_string[end_idx]\n",
        "\n",
        "        input_string[end_idx] = hold\n",
        "\n",
        "        start_idx += 1\n",
        "\n",
        "        end_idx -= 1\n",
        "\n",
        "    input_string = ''.join(input_string)\n",
        "\n",
        "    print(input_string)\n",
        ""
      ]
    },
    {
      "cell_type": "code",
      "source": [
        "string_reverse('alfabeto')\n",
        "string_reverse('letras letras letras')\n",
        "string_reverse('decent code')\n",
        "string_reverse('keep calm')\n",
        "string_reverse('123456789101112131415')\n",
        "string_reverse('inovation and tecnology')"
      ],
      "metadata": {
        "colab": {
          "base_uri": "https://localhost:8080/"
        },
        "id": "b8JmxAj02KHJ",
        "outputId": "6f0be54b-7b30-4e92-9c41-050a11daf5f4"
      },
      "execution_count": 44,
      "outputs": [
        {
          "output_type": "stream",
          "name": "stdout",
          "text": [
            "otebafla\n",
            "sartel sartel sartel\n",
            "edoc tneced\n",
            "mlac peek\n",
            "514131211101987654321\n",
            "ygoloncet dna noitavoni\n"
          ]
        }
      ]
    }
  ]
}