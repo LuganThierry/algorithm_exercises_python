{
  "nbformat": 4,
  "nbformat_minor": 0,
  "metadata": {
    "colab": {
      "provenance": [],
      "authorship_tag": "ABX9TyN4C5ML3Y7gSinWz5G5LuEj"
    },
    "kernelspec": {
      "name": "python3",
      "display_name": "Python 3"
    },
    "language_info": {
      "name": "python"
    }
  },
  "cells": [
    {
      "cell_type": "markdown",
      "source": [
        "### Square root\n",
        "\n",
        "This exercise requires that, given a non-negative integer number, you return the square root of this number rounded down.\n",
        "\n",
        "The constraint of this exercise is not to use built-in square root functions, such as Sqtr(), Pow() or (n ** 0.5) // 1\n"
      ],
      "metadata": {
        "id": "WSPa2tZY6R5B"
      }
    },
    {
      "cell_type": "code",
      "execution_count": 6,
      "metadata": {
        "id": "aZTP29q01onO"
      },
      "outputs": [],
      "source": [
        "def square_root(n: int) -> int:\n",
        "\n",
        "    left = 0\n",
        "    right = n\n",
        "    result = 0\n",
        "\n",
        "    while left <= right:\n",
        "\n",
        "        middle = left + ((right - left) // 2)\n",
        "\n",
        "        if (middle * middle) > n:\n",
        "\n",
        "            right = middle - 1\n",
        "\n",
        "        elif (middle * middle) < n:\n",
        "\n",
        "            left = middle + 1\n",
        "\n",
        "            result = middle\n",
        "\n",
        "        else:\n",
        "\n",
        "            return middle\n",
        "\n",
        "    return result"
      ]
    },
    {
      "cell_type": "code",
      "source": [
        "nums = [4, 7, 8, 9, 11, 15, 25, 144, 150]"
      ],
      "metadata": {
        "id": "U30cWOdZ6UuX"
      },
      "execution_count": 3,
      "outputs": []
    },
    {
      "cell_type": "code",
      "source": [
        "for n in nums:\n",
        "\n",
        "    print(f'The square root of {n} is {square_root(n)}')\n",
        "    print('-------------------------------')"
      ],
      "metadata": {
        "colab": {
          "base_uri": "https://localhost:8080/"
        },
        "id": "aQs4BHWC6d1X",
        "outputId": "8b3fd58b-0ead-48a6-c6f8-a104b43c45eb"
      },
      "execution_count": 7,
      "outputs": [
        {
          "output_type": "stream",
          "name": "stdout",
          "text": [
            "The square root of 4 is 2\n",
            "-------------------------------\n",
            "The square root of 7 is 2\n",
            "-------------------------------\n",
            "The square root of 8 is 2\n",
            "-------------------------------\n",
            "The square root of 9 is 3\n",
            "-------------------------------\n",
            "The square root of 11 is 3\n",
            "-------------------------------\n",
            "The square root of 15 is 3\n",
            "-------------------------------\n",
            "The square root of 25 is 5\n",
            "-------------------------------\n",
            "The square root of 144 is 12\n",
            "-------------------------------\n",
            "The square root of 150 is 12\n",
            "-------------------------------\n"
          ]
        }
      ]
    }
  ]
}