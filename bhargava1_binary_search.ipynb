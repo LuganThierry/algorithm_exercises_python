{
  "nbformat": 4,
  "nbformat_minor": 0,
  "metadata": {
    "colab": {
      "provenance": [],
      "authorship_tag": "ABX9TyOfGVCOoNGG3GqcIXeuaGQc"
    },
    "kernelspec": {
      "name": "python3",
      "display_name": "Python 3"
    },
    "language_info": {
      "name": "python"
    }
  },
  "cells": [
    {
      "cell_type": "code",
      "execution_count": 16,
      "metadata": {
        "id": "qZENP0Icpj9e"
      },
      "outputs": [],
      "source": [
        "def binary_search(input_list, input_item):\n",
        "\n",
        "    low = 0\n",
        "\n",
        "    high = len(input_list) - 1\n",
        "\n",
        "    iterations = 1\n",
        "\n",
        "    while low <= high:\n",
        "\n",
        "        mid = (low + high) // 2\n",
        "\n",
        "        guess = input_list[mid]\n",
        "\n",
        "        if guess == input_item:\n",
        "\n",
        "            return mid, guess, iterations\n",
        "\n",
        "        if guess > input_item:\n",
        "\n",
        "            high = mid - 1\n",
        "\n",
        "        else:\n",
        "\n",
        "            low = mid + 1\n",
        "\n",
        "        iterations += 1\n",
        "\n",
        "    return f'{input_item} is not included in the list'\n"
      ]
    },
    {
      "cell_type": "code",
      "source": [
        "input_list1 = ['a', 'b', 'c', 'd', 'e', 'f', 'g', 'w', 'z']\n",
        "\n",
        "binary_search(input_list1, 'i')"
      ],
      "metadata": {
        "colab": {
          "base_uri": "https://localhost:8080/",
          "height": 36
        },
        "id": "ZE74NH8_tS0q",
        "outputId": "8b43805d-b33f-4a4d-db66-7f156a00ac17"
      },
      "execution_count": 17,
      "outputs": [
        {
          "output_type": "execute_result",
          "data": {
            "text/plain": [
              "'i is not included in the list'"
            ],
            "application/vnd.google.colaboratory.intrinsic+json": {
              "type": "string"
            }
          },
          "metadata": {},
          "execution_count": 17
        }
      ]
    },
    {
      "cell_type": "code",
      "source": [
        "input_list2 = ['a', 'b', 'c', 'd', 'e', 'f', 'g', 'w', 'z']\n",
        "\n",
        "binary_search(input_list2, 'w')"
      ],
      "metadata": {
        "colab": {
          "base_uri": "https://localhost:8080/"
        },
        "id": "ijC2epbNyO76",
        "outputId": "9098ce8e-7136-4cfd-8552-53c6941d436f"
      },
      "execution_count": 18,
      "outputs": [
        {
          "output_type": "execute_result",
          "data": {
            "text/plain": [
              "(7, 'w', 3)"
            ]
          },
          "metadata": {},
          "execution_count": 18
        }
      ]
    },
    {
      "cell_type": "code",
      "source": [
        "import time"
      ],
      "metadata": {
        "id": "QhCcGnVzz42C"
      },
      "execution_count": 19,
      "outputs": []
    },
    {
      "cell_type": "code",
      "source": [
        "def algorithm_timing():\n",
        "\n",
        "    start_time = time.time()\n",
        "\n",
        "    binary_search(input_list2, 'z')\n",
        "\n",
        "    end_time = time.time()\n",
        "\n",
        "    elapsed_time = end_time - start_time\n",
        "\n",
        "    return f\"{elapsed_time * (10**6)} microssegundos\"\n",
        "\n",
        "algorithm_timing()"
      ],
      "metadata": {
        "colab": {
          "base_uri": "https://localhost:8080/",
          "height": 36
        },
        "id": "laZ0t3FmzpuS",
        "outputId": "6bdf68ab-0a8e-47a2-94ed-5f2a15e60ab1"
      },
      "execution_count": 32,
      "outputs": [
        {
          "output_type": "execute_result",
          "data": {
            "text/plain": [
              "'7.62939453125 microssegundos'"
            ],
            "application/vnd.google.colaboratory.intrinsic+json": {
              "type": "string"
            }
          },
          "metadata": {},
          "execution_count": 32
        }
      ]
    }
  ]
}