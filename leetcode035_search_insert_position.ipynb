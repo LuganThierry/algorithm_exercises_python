{
  "nbformat": 4,
  "nbformat_minor": 0,
  "metadata": {
    "colab": {
      "provenance": [],
      "authorship_tag": "ABX9TyMgA6hrZ9HE6xRrt5hUoXz6"
    },
    "kernelspec": {
      "name": "python3",
      "display_name": "Python 3"
    },
    "language_info": {
      "name": "python"
    }
  },
  "cells": [
    {
      "cell_type": "markdown",
      "source": [
        "### Search and insert position\n",
        "\n",
        "This problem requires that, given a list of integers and a target integer, you find which is its index in the list or, if it ain't in the list, the index it would have if it was in the list."
      ],
      "metadata": {
        "id": "TEdfOskOJNj7"
      }
    },
    {
      "cell_type": "code",
      "execution_count": 10,
      "metadata": {
        "id": "ircf5SQJGSm7"
      },
      "outputs": [],
      "source": [
        "def search_insert(nums: list[int], target: int) -> int:\n",
        "\n",
        "    left = 0\n",
        "    right = len(nums) - 1\n",
        "\n",
        "    while left <= right:\n",
        "\n",
        "        mid = int((( left + right ) / 2) // 1)\n",
        "\n",
        "        if nums[mid] == target:\n",
        "\n",
        "            return mid\n",
        "\n",
        "        elif target < nums[mid]:\n",
        "\n",
        "            right = mid - 1\n",
        "\n",
        "        else:\n",
        "\n",
        "            left = mid + 1\n",
        "\n",
        "    return left"
      ]
    },
    {
      "cell_type": "code",
      "source": [
        "list_ = [1, 3, 5, 6]"
      ],
      "metadata": {
        "id": "ZHMT5bSCIIJT"
      },
      "execution_count": 4,
      "outputs": []
    },
    {
      "cell_type": "code",
      "source": [
        "print(search_insert(list_, 5))\n",
        "print(search_insert(list_, 2))\n",
        "print(search_insert(list_, 7))\n",
        "print(search_insert(list_, 0))"
      ],
      "metadata": {
        "colab": {
          "base_uri": "https://localhost:8080/"
        },
        "id": "GCzevV0pIO7L",
        "outputId": "4d838ab8-de91-4828-ba42-33acb6d1bba5"
      },
      "execution_count": 11,
      "outputs": [
        {
          "output_type": "stream",
          "name": "stdout",
          "text": [
            "2\n",
            "1\n",
            "4\n",
            "0\n"
          ]
        }
      ]
    }
  ]
}