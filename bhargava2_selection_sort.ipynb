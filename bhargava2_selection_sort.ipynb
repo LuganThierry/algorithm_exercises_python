{
  "nbformat": 4,
  "nbformat_minor": 0,
  "metadata": {
    "colab": {
      "provenance": [],
      "authorship_tag": "ABX9TyO1gXyZUTjF0WjhD3C9sElj"
    },
    "kernelspec": {
      "name": "python3",
      "display_name": "Python 3"
    },
    "language_info": {
      "name": "python"
    }
  },
  "cells": [
    {
      "cell_type": "markdown",
      "source": [
        "## Selection sort\n",
        "This exercise requires that, given a array of numbers, you sort them going through every item in the array.\n",
        "\n",
        "Although this algorithm is based on Bharvaga's, I decide to use the array module to type arrays and functions' inputs and returns.\n",
        "\n",
        "Due to the array module usage, I had to copy the typecode of the array to sort to the sorted array."
      ],
      "metadata": {
        "id": "NVij-1zFeEL0"
      }
    },
    {
      "cell_type": "code",
      "source": [
        "import array\n",
        "from typing import Any"
      ],
      "metadata": {
        "id": "rOjaP_2jVp4Y"
      },
      "execution_count": 2,
      "outputs": []
    },
    {
      "cell_type": "code",
      "execution_count": 27,
      "metadata": {
        "id": "_ia54wNxTZar"
      },
      "outputs": [],
      "source": [
        "def find_smallest_index(input_array: array.array) -> int:\n",
        "\n",
        "    smallest_number = input_array[0]\n",
        "\n",
        "    smallest_index = 0\n",
        "\n",
        "    for i in range(1, len(input_array)):\n",
        "\n",
        "        if input_array[i] < smallest_number:\n",
        "\n",
        "            smallest_index = i\n",
        "\n",
        "            smallest_number = input_array[i]\n",
        "\n",
        "    return smallest_index"
      ]
    },
    {
      "cell_type": "code",
      "source": [
        "test_array_1 = array.array('I', [1, 2, 3, 4, 5, 0])\n",
        "test_array_2 = array.array('I', [1000, 500, 2000, 300, 3000])\n",
        "test_array_3 = array.array('f', [5.2, 89,8, 3, 0.55, 8])\n",
        "test_array_4 = array.array('i', [-1000, 500, -52000, -300, -3000])"
      ],
      "metadata": {
        "id": "-Ts7fJZpXIpM"
      },
      "execution_count": 73,
      "outputs": []
    },
    {
      "cell_type": "code",
      "source": [
        "find_smallest_index(test_array_1)"
      ],
      "metadata": {
        "colab": {
          "base_uri": "https://localhost:8080/"
        },
        "id": "juJ49X5aX3h4",
        "outputId": "ae4e7452-a6d9-435d-9282-d8f4e92c1474"
      },
      "execution_count": 28,
      "outputs": [
        {
          "output_type": "execute_result",
          "data": {
            "text/plain": [
              "5"
            ]
          },
          "metadata": {},
          "execution_count": 28
        }
      ]
    },
    {
      "cell_type": "code",
      "source": [
        "find_smallest_index(test_array_2)"
      ],
      "metadata": {
        "colab": {
          "base_uri": "https://localhost:8080/"
        },
        "id": "EBcYwl4SX9qc",
        "outputId": "ad69b967-4230-4428-b7bb-aa0d71bc6a1c"
      },
      "execution_count": 29,
      "outputs": [
        {
          "output_type": "execute_result",
          "data": {
            "text/plain": [
              "3"
            ]
          },
          "metadata": {},
          "execution_count": 29
        }
      ]
    },
    {
      "cell_type": "code",
      "source": [
        "find_smallest_index(test_array_3)"
      ],
      "metadata": {
        "colab": {
          "base_uri": "https://localhost:8080/"
        },
        "id": "Bq21nNnvYB7p",
        "outputId": "5f67e62a-83b0-4abc-f861-86b6c326fadf"
      },
      "execution_count": 30,
      "outputs": [
        {
          "output_type": "execute_result",
          "data": {
            "text/plain": [
              "4"
            ]
          },
          "metadata": {},
          "execution_count": 30
        }
      ]
    },
    {
      "cell_type": "code",
      "source": [
        "find_smallest_index(test_array_4)"
      ],
      "metadata": {
        "colab": {
          "base_uri": "https://localhost:8080/"
        },
        "id": "7t11-5daYmtJ",
        "outputId": "212c7610-c50d-4a7c-9f76-180e1ec6f2ff"
      },
      "execution_count": 31,
      "outputs": [
        {
          "output_type": "execute_result",
          "data": {
            "text/plain": [
              "2"
            ]
          },
          "metadata": {},
          "execution_count": 31
        }
      ]
    },
    {
      "cell_type": "code",
      "source": [
        "def selection_sort(input_array: array.array) -> array.array:\n",
        "\n",
        "    temp_array = array.array(input_array.typecode, input_array)\n",
        "\n",
        "    new_array = array.array(temp_array.typecode, [])\n",
        "\n",
        "    for i in range(len(temp_array)):\n",
        "\n",
        "        smallest_index = find_smallest_index(temp_array)\n",
        "\n",
        "        new_array.append(temp_array.pop(smallest_index))\n",
        "\n",
        "    return new_array                   # retorna o array incluindo o typecode do array\n",
        "    # return new_array.tolist()        # retorna a lista de itens do array"
      ],
      "metadata": {
        "id": "JYmOYZWWZMUa"
      },
      "execution_count": 82,
      "outputs": []
    },
    {
      "cell_type": "code",
      "source": [
        "selection_sort(test_array_1)"
      ],
      "metadata": {
        "colab": {
          "base_uri": "https://localhost:8080/"
        },
        "id": "_YO3VOZQasGv",
        "outputId": "7bd50789-7c15-4a0b-c62e-53f609292f45"
      },
      "execution_count": 86,
      "outputs": [
        {
          "output_type": "execute_result",
          "data": {
            "text/plain": [
              "array('I', [0, 1, 2, 3, 4, 5])"
            ]
          },
          "metadata": {},
          "execution_count": 86
        }
      ]
    },
    {
      "cell_type": "code",
      "source": [
        "selection_sort(test_array_2)"
      ],
      "metadata": {
        "colab": {
          "base_uri": "https://localhost:8080/"
        },
        "id": "owvBaY71duAk",
        "outputId": "c205c6b6-c453-42ed-f11a-b5b62bbaa751"
      },
      "execution_count": 87,
      "outputs": [
        {
          "output_type": "execute_result",
          "data": {
            "text/plain": [
              "array('I', [300, 500, 1000, 2000, 3000])"
            ]
          },
          "metadata": {},
          "execution_count": 87
        }
      ]
    },
    {
      "cell_type": "code",
      "source": [
        "selection_sort(test_array_3)"
      ],
      "metadata": {
        "colab": {
          "base_uri": "https://localhost:8080/"
        },
        "id": "ld771G0Iducs",
        "outputId": "83d42f76-99ec-4bfc-e110-161aca8d5f7a"
      },
      "execution_count": 88,
      "outputs": [
        {
          "output_type": "execute_result",
          "data": {
            "text/plain": [
              "array('f', [0.550000011920929, 3.0, 5.199999809265137, 8.0, 8.0, 89.0])"
            ]
          },
          "metadata": {},
          "execution_count": 88
        }
      ]
    },
    {
      "cell_type": "code",
      "source": [
        "selection_sort(test_array_4)"
      ],
      "metadata": {
        "colab": {
          "base_uri": "https://localhost:8080/"
        },
        "id": "PlkkbCLddu9S",
        "outputId": "b33de389-6116-431c-ceec-52c957999abe"
      },
      "execution_count": 89,
      "outputs": [
        {
          "output_type": "execute_result",
          "data": {
            "text/plain": [
              "array('i', [-52000, -3000, -1000, -300, 500])"
            ]
          },
          "metadata": {},
          "execution_count": 89
        }
      ]
    }
  ]
}