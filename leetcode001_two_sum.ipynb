{
  "nbformat": 4,
  "nbformat_minor": 0,
  "metadata": {
    "colab": {
      "provenance": [],
      "authorship_tag": "ABX9TyOiLTU5EhBZb9hyN+yC6exO"
    },
    "kernelspec": {
      "name": "python3",
      "display_name": "Python 3"
    },
    "language_info": {
      "name": "python"
    }
  },
  "cells": [
    {
      "cell_type": "markdown",
      "source": [
        "#### Two sum\n",
        "\n",
        "This exercise requires that, given a list of numbers and a target number, you find the indexes of the numbers in the list that added together correspond to the value of the target."
      ],
      "metadata": {
        "id": "7f_HM_0SU7W6"
      }
    },
    {
      "cell_type": "markdown",
      "source": [
        "##### Brute force solution"
      ],
      "metadata": {
        "id": "uzk4itqEWJsR"
      }
    },
    {
      "cell_type": "code",
      "execution_count": 17,
      "metadata": {
        "id": "7515saNtTxxi"
      },
      "outputs": [],
      "source": [
        "def brute_two_sum(nums: list[int], target: int) -> list[int]:\n",
        "\n",
        "    for i in range(0, len(nums)):\n",
        "\n",
        "        for j in range(i + 1, len(nums)):\n",
        "\n",
        "            sum = nums[i] + nums[j]\n",
        "\n",
        "            if sum == target:\n",
        "\n",
        "                return [i, j]"
      ]
    },
    {
      "cell_type": "code",
      "source": [
        "nums1 = [2, 7, 11, 15]\n",
        "nums2 = [3, 2, 4]\n",
        "nums3 = [3, 3]\n",
        "nums4 = [11, 15, 7, 2]\n",
        "nums5 = [7, 11, 15, 2]"
      ],
      "metadata": {
        "id": "GgEMxe4wWt_p"
      },
      "execution_count": 19,
      "outputs": []
    },
    {
      "cell_type": "code",
      "source": [
        "print(brute_two_sum(nums1, 9))\n",
        "print(brute_two_sum(nums2, 6))\n",
        "print(brute_two_sum(nums3, 6))\n",
        "print(brute_two_sum(nums4, 9))\n",
        "print(brute_two_sum(nums5, 9))"
      ],
      "metadata": {
        "colab": {
          "base_uri": "https://localhost:8080/"
        },
        "id": "-dIZYZQPXBxF",
        "outputId": "236465f9-31d6-40a9-a84d-0ff132aa662f"
      },
      "execution_count": 20,
      "outputs": [
        {
          "output_type": "stream",
          "name": "stdout",
          "text": [
            "[0, 1]\n",
            "[1, 2]\n",
            "[0, 1]\n",
            "[2, 3]\n",
            "[0, 3]\n"
          ]
        }
      ]
    },
    {
      "cell_type": "markdown",
      "source": [
        "##### Optimized solution"
      ],
      "metadata": {
        "id": "-L3tbt4uYm7l"
      }
    },
    {
      "cell_type": "code",
      "source": [
        "def optimized_two_sum(nums: list[int], target: int) -> list[int]:\n",
        "\n",
        "    comp_map = {}\n",
        "\n",
        "    for i, n in enumerate(nums):\n",
        "\n",
        "        comp = target - n\n",
        "\n",
        "        if comp not in comp_map:\n",
        "\n",
        "            comp_map[n] = i\n",
        "\n",
        "        else:\n",
        "\n",
        "            return [i, comp_map[comp]]"
      ],
      "metadata": {
        "id": "_JnDSgVRYthM"
      },
      "execution_count": 24,
      "outputs": []
    },
    {
      "cell_type": "code",
      "source": [
        "print(optimized_two_sum(nums1, 9))\n",
        "print(optimized_two_sum(nums2, 6))\n",
        "print(optimized_two_sum(nums3, 6))\n",
        "print(optimized_two_sum(nums4, 9))\n",
        "print(optimized_two_sum(nums5, 9))"
      ],
      "metadata": {
        "colab": {
          "base_uri": "https://localhost:8080/"
        },
        "id": "iyARedpPcYVK",
        "outputId": "b255e915-c1ac-4d1a-b59d-12c9fa195097"
      },
      "execution_count": 25,
      "outputs": [
        {
          "output_type": "stream",
          "name": "stdout",
          "text": [
            "[1, 0]\n",
            "[2, 1]\n",
            "[1, 0]\n",
            "[3, 2]\n",
            "[3, 0]\n"
          ]
        }
      ]
    }
  ]
}