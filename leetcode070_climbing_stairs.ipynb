{
  "nbformat": 4,
  "nbformat_minor": 0,
  "metadata": {
    "colab": {
      "provenance": [],
      "authorship_tag": "ABX9TyMcBipVB1AfIwX1/XvaI2oq"
    },
    "kernelspec": {
      "name": "python3",
      "display_name": "Python 3"
    },
    "language_info": {
      "name": "python"
    }
  },
  "cells": [
    {
      "cell_type": "markdown",
      "source": [
        "### Climb stairs\n",
        "\n",
        "This exercise requires you to compute how many possible ways you can climb a stair of **n** steps - **n** is a number given as parameter - considering that you can only 1 or 2 steps at a time."
      ],
      "metadata": {
        "id": "HVUiB5SDCgPW"
      }
    },
    {
      "cell_type": "markdown",
      "source": [
        "The solution to this exercise was inspired by [NeetCode](https://https://www.youtube.com/watch?v=Y0lT9Fck7qI)"
      ],
      "metadata": {
        "id": "YplNJGi2Faut"
      }
    },
    {
      "cell_type": "code",
      "execution_count": null,
      "metadata": {
        "id": "Ftxq2EDG9c2V"
      },
      "outputs": [],
      "source": [
        "def climb_stairs(n: int) -> int:\n",
        "\n",
        "      one, two = 1, 1\n",
        "\n",
        "      for i in range(n - 1):\n",
        "\n",
        "            temp = one\n",
        "\n",
        "            one = one + two\n",
        "\n",
        "            two = temp\n",
        "\n",
        "      return one"
      ]
    },
    {
      "cell_type": "code",
      "source": [
        "nums = [1, 2, 3, 4, 5, 6, 7, 8, 9, 10, 15, 50, 121, 1331]"
      ],
      "metadata": {
        "id": "Aw1qB2UPCiPc"
      },
      "execution_count": null,
      "outputs": []
    },
    {
      "cell_type": "code",
      "source": [
        "for n in nums:\n",
        "\n",
        "    print(f'There is {climb_stairs(n)} possible ways to climb a stair of {n} steps')"
      ],
      "metadata": {
        "colab": {
          "base_uri": "https://localhost:8080/"
        },
        "id": "5gmcEVvYDVtE",
        "outputId": "2b082428-18d5-46ad-b2b8-83c84ee5b74b"
      },
      "execution_count": null,
      "outputs": [
        {
          "output_type": "stream",
          "name": "stdout",
          "text": [
            "There is 1 possible ways to climb a stair of 1 steps\n",
            "There is 2 possible ways to climb a stair of 2 steps\n",
            "There is 3 possible ways to climb a stair of 3 steps\n",
            "There is 5 possible ways to climb a stair of 4 steps\n",
            "There is 8 possible ways to climb a stair of 5 steps\n",
            "There is 13 possible ways to climb a stair of 6 steps\n",
            "There is 21 possible ways to climb a stair of 7 steps\n",
            "There is 34 possible ways to climb a stair of 8 steps\n",
            "There is 55 possible ways to climb a stair of 9 steps\n",
            "There is 89 possible ways to climb a stair of 10 steps\n",
            "There is 987 possible ways to climb a stair of 15 steps\n",
            "There is 20365011074 possible ways to climb a stair of 50 steps\n",
            "There is 14028366653498915298923761 possible ways to climb a stair of 121 steps\n",
            "There is 105208737908192959476133252178862414624297337867800143423361406860825585143312696934099447880630295304896696763417467220077933465614247791446650786374358737523001670462448494048845408936941352981701351372386121248323804845986153622736165675845872900845415084382762560672494812784 possible ways to climb a stair of 1331 steps\n"
          ]
        }
      ]
    }
  ]
}