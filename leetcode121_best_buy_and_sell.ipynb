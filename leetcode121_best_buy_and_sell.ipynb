{
  "nbformat": 4,
  "nbformat_minor": 0,
  "metadata": {
    "colab": {
      "provenance": [],
      "authorship_tag": "ABX9TyOTRWDxxDhfA/yuvulzE92X"
    },
    "kernelspec": {
      "name": "python3",
      "display_name": "Python 3"
    },
    "language_info": {
      "name": "python"
    }
  },
  "cells": [
    {
      "cell_type": "markdown",
      "source": [
        "### Best time to buy and sell stock\n",
        "\n",
        "This exercise requires that, given a list of prices of a stock in different days, you find which is the best profit possible in the list buying it in the lowest price"
      ],
      "metadata": {
        "id": "8Qo3Fgs_Pf6U"
      }
    },
    {
      "cell_type": "code",
      "execution_count": 8,
      "metadata": {
        "id": "NJ2Z_cvbPXv8"
      },
      "outputs": [],
      "source": [
        "def max_profit(prices: list[int]) -> int:\n",
        "\n",
        "    min_price = float('inf')\n",
        "\n",
        "    max_prof = 0\n",
        "\n",
        "    for price in prices:\n",
        "\n",
        "        min_price = min(min_price, price)\n",
        "\n",
        "        max_prof = max(max_prof, price - min_price)\n",
        "\n",
        "        print(f\"min_price: {min_price} - max_prof: {max_prof}\")\n",
        "\n",
        "    return max_prof"
      ]
    },
    {
      "cell_type": "code",
      "source": [
        "prices1 = [7, 1, 5, 3, 6, 4]\n",
        "prices2 = [7, 1, 5, 3, 6, 4, 8, 5]\n",
        "prices3 = [1, 1, 5, 3, 5, 4]"
      ],
      "metadata": {
        "id": "NoF6zPlFS837"
      },
      "execution_count": 11,
      "outputs": []
    },
    {
      "cell_type": "code",
      "source": [
        "max_profit(prices1)"
      ],
      "metadata": {
        "colab": {
          "base_uri": "https://localhost:8080/"
        },
        "id": "-zpPjAJ_TCgb",
        "outputId": "7535c6c4-30fc-4ba6-ed0a-080095c07db8"
      },
      "execution_count": 9,
      "outputs": [
        {
          "output_type": "stream",
          "name": "stdout",
          "text": [
            "min_price: 7 - max_prof: 0\n",
            "min_price: 1 - max_prof: 0\n",
            "min_price: 1 - max_prof: 4\n",
            "min_price: 1 - max_prof: 4\n",
            "min_price: 1 - max_prof: 5\n",
            "min_price: 1 - max_prof: 5\n"
          ]
        },
        {
          "output_type": "execute_result",
          "data": {
            "text/plain": [
              "5"
            ]
          },
          "metadata": {},
          "execution_count": 9
        }
      ]
    },
    {
      "cell_type": "code",
      "source": [
        "max_profit(prices2)"
      ],
      "metadata": {
        "colab": {
          "base_uri": "https://localhost:8080/"
        },
        "id": "wCXZlI_vT7yk",
        "outputId": "5f2f324e-9f8f-4110-9c40-682e60a3b599"
      },
      "execution_count": 12,
      "outputs": [
        {
          "output_type": "stream",
          "name": "stdout",
          "text": [
            "min_price: 7 - max_prof: 0\n",
            "min_price: 1 - max_prof: 0\n",
            "min_price: 1 - max_prof: 4\n",
            "min_price: 1 - max_prof: 4\n",
            "min_price: 1 - max_prof: 5\n",
            "min_price: 1 - max_prof: 5\n",
            "min_price: 1 - max_prof: 7\n",
            "min_price: 1 - max_prof: 7\n"
          ]
        },
        {
          "output_type": "execute_result",
          "data": {
            "text/plain": [
              "7"
            ]
          },
          "metadata": {},
          "execution_count": 12
        }
      ]
    },
    {
      "cell_type": "code",
      "source": [
        "max_profit(prices3)"
      ],
      "metadata": {
        "colab": {
          "base_uri": "https://localhost:8080/"
        },
        "id": "3TwBXHsXT8T7",
        "outputId": "aeb48e54-004a-47d3-b670-475a8f06d717"
      },
      "execution_count": 13,
      "outputs": [
        {
          "output_type": "stream",
          "name": "stdout",
          "text": [
            "min_price: 1 - max_prof: 0\n",
            "min_price: 1 - max_prof: 0\n",
            "min_price: 1 - max_prof: 4\n",
            "min_price: 1 - max_prof: 4\n",
            "min_price: 1 - max_prof: 4\n",
            "min_price: 1 - max_prof: 4\n"
          ]
        },
        {
          "output_type": "execute_result",
          "data": {
            "text/plain": [
              "4"
            ]
          },
          "metadata": {},
          "execution_count": 13
        }
      ]
    }
  ]
}