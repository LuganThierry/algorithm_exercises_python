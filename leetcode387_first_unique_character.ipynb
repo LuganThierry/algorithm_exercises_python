{
  "nbformat": 4,
  "nbformat_minor": 0,
  "metadata": {
    "colab": {
      "provenance": [],
      "authorship_tag": "ABX9TyNFsN9yTGtMXrLfLwLOXPSA"
    },
    "kernelspec": {
      "name": "python3",
      "display_name": "Python 3"
    },
    "language_info": {
      "name": "python"
    }
  },
  "cells": [
    {
      "cell_type": "markdown",
      "source": [
        "### First unique character in a string\n",
        "\n",
        "This exercises requires that, given a string, you identify which character is the first character to appear only once"
      ],
      "metadata": {
        "id": "kYS4HAc_4Bbw"
      }
    },
    {
      "cell_type": "code",
      "source": [
        "def first_unique_character(input_string):\n",
        "\n",
        "    str_dict = {}\n",
        "\n",
        "    for ch in input_string:\n",
        "\n",
        "        if ch not in str_dict:\n",
        "\n",
        "            str_dict[ch] = True\n",
        "\n",
        "        else:\n",
        "\n",
        "            str_dict[ch] = False\n",
        "\n",
        "    for index, character in enumerate(input_string):\n",
        "\n",
        "        if str_dict[character]:\n",
        "\n",
        "            return index, character\n",
        "\n",
        "    return -1"
      ],
      "metadata": {
        "id": "zS5T4Ve_4ABs"
      },
      "execution_count": 18,
      "outputs": []
    },
    {
      "cell_type": "code",
      "execution_count": 19,
      "metadata": {
        "colab": {
          "base_uri": "https://localhost:8080/"
        },
        "id": "rCX14jJ5106h",
        "outputId": "15ead9a9-c204-488b-cbb8-bc3494e8d5fb"
      },
      "outputs": [
        {
          "output_type": "stream",
          "name": "stdout",
          "text": [
            "(19, 'j')\n",
            "(7, 'c')\n",
            "-1\n",
            "(4, 'y')\n",
            "(42, 's')\n",
            "(15, 'z')\n"
          ]
        }
      ],
      "source": [
        "print(first_unique_character('lulugaganinalalalaijalalaf'))\n",
        "print(first_unique_character('testedocodigodefirstuniquestring'))\n",
        "print(first_unique_character('ovovovovovovovoovovovovovovovov'))\n",
        "print(first_unique_character('itsmylifeitsnoworneveriamgonnaliveforever'))\n",
        "print(first_unique_character('peloqueeuentendieletemumlimitequeeledaprausarocertificado'))\n",
        "print(first_unique_character('arvoressoboceuazuleobrilhodosoliluminaacabeçadasvelhinhas'))"
      ]
    }
  ]
}