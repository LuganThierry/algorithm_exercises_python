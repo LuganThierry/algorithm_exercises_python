{
  "nbformat": 4,
  "nbformat_minor": 0,
  "metadata": {
    "colab": {
      "provenance": [],
      "authorship_tag": "ABX9TyMfOLDd8SGDzVbTyARZnHkw"
    },
    "kernelspec": {
      "name": "python3",
      "display_name": "Python 3"
    },
    "language_info": {
      "name": "python"
    }
  },
  "cells": [
    {
      "cell_type": "markdown",
      "source": [
        "### Reverse singly linked list\n",
        "\n",
        "This exercise requires that, given a singly linked list, you return this list reversed."
      ],
      "metadata": {
        "id": "zhlLOoYQX9Iy"
      }
    },
    {
      "cell_type": "code",
      "execution_count": 1,
      "metadata": {
        "id": "80qG0xu2XNXo"
      },
      "outputs": [],
      "source": [
        "## logic given by the leetcode question\n",
        "class ListNode:\n",
        "    def __init__(self, val=0, next=None):\n",
        "        self.val = val\n",
        "        self.next = next"
      ]
    },
    {
      "cell_type": "code",
      "source": [
        "## function that turns a normal Python list into a ListNode\n",
        "def populate_listnode(list_):\n",
        "    if not list_:\n",
        "        return None\n",
        "\n",
        "    head = ListNode(list_[0])\n",
        "    current = head\n",
        "\n",
        "    for item in list_[1:]:\n",
        "        current.next = ListNode(item)\n",
        "        current = current.next\n",
        "\n",
        "    return head"
      ],
      "metadata": {
        "id": "EnomeHAmXV4q"
      },
      "execution_count": 2,
      "outputs": []
    },
    {
      "cell_type": "code",
      "source": [
        "## function that prints the unique nodes in a ListNode\n",
        "def print_linked_list(head: ListNode):\n",
        "    current = head\n",
        "    while current:\n",
        "        print(current.val, end=\" -> \")\n",
        "        current = current.next\n",
        "    print(\"end\")"
      ],
      "metadata": {
        "id": "_5Tn6AJnXoMa"
      },
      "execution_count": 3,
      "outputs": []
    },
    {
      "cell_type": "code",
      "source": [
        "## function that reverses the ListNode\n",
        "def reverse_list(head: ListNode) -> ListNode:\n",
        "\n",
        "    current = head\n",
        "    previous = None\n",
        "\n",
        "    while current:\n",
        "\n",
        "        hold_next = current.next\n",
        "        current.next = previous\n",
        "        previous = current\n",
        "        current = hold_next\n",
        "\n",
        "    return previous"
      ],
      "metadata": {
        "id": "f3u-6RWdYFb5"
      },
      "execution_count": 4,
      "outputs": []
    },
    {
      "cell_type": "code",
      "source": [
        "list_node1 = populate_listnode([1, 2 , 2])\n",
        "list_node2 = populate_listnode([1, 2, 3, 4])\n",
        "list_node3 = populate_listnode([0, 1, 2, 3, 4])\n",
        "list_node4 = populate_listnode([0, 1, 2, 3, 4, 5, 6, 7, 8, 9, 10])\n",
        "list_node5 = populate_listnode(['a', 'b', 'c', 'd', 'e'])\n",
        "list_node6 = populate_listnode(['a', 'b', 'c', 'd', 'e', 'f', 'g', 'h'])"
      ],
      "metadata": {
        "id": "U3jv7n2pZbZA"
      },
      "execution_count": 6,
      "outputs": []
    },
    {
      "cell_type": "code",
      "source": [
        "res1 = reverse_list(list_node1)\n",
        "res2 = reverse_list(list_node2)\n",
        "res3 = reverse_list(list_node3)\n",
        "res4 = reverse_list(list_node4)\n",
        "res5 = reverse_list(list_node5)\n",
        "res6 = reverse_list(list_node6)"
      ],
      "metadata": {
        "id": "r1FClIlsZ3OJ"
      },
      "execution_count": 7,
      "outputs": []
    },
    {
      "cell_type": "code",
      "source": [
        "print_linked_list(res1)\n",
        "print_linked_list(res2)\n",
        "print_linked_list(res3)\n",
        "print_linked_list(res4)\n",
        "print_linked_list(res5)\n",
        "print_linked_list(res6)"
      ],
      "metadata": {
        "colab": {
          "base_uri": "https://localhost:8080/"
        },
        "id": "3Cs24FB3aILk",
        "outputId": "43519205-d295-4aa9-bd87-d9b160aa63e7"
      },
      "execution_count": 8,
      "outputs": [
        {
          "output_type": "stream",
          "name": "stdout",
          "text": [
            "2 -> 2 -> 1 -> end\n",
            "4 -> 3 -> 2 -> 1 -> end\n",
            "4 -> 3 -> 2 -> 1 -> 0 -> end\n",
            "10 -> 9 -> 8 -> 7 -> 6 -> 5 -> 4 -> 3 -> 2 -> 1 -> 0 -> end\n",
            "e -> d -> c -> b -> a -> end\n",
            "h -> g -> f -> e -> d -> c -> b -> a -> end\n"
          ]
        }
      ]
    }
  ]
}