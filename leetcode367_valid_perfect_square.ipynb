{
  "nbformat": 4,
  "nbformat_minor": 0,
  "metadata": {
    "colab": {
      "provenance": [],
      "authorship_tag": "ABX9TyNSG8m/UGvGb+tSKSwUapBF"
    },
    "kernelspec": {
      "name": "python3",
      "display_name": "Python 3"
    },
    "language_info": {
      "name": "python"
    }
  },
  "cells": [
    {
      "cell_type": "markdown",
      "source": [
        "### Valid perfect square\n",
        "\n",
        "This exercise requires that, given an integer, you find out whether or not it is resulted by the square of another integer number."
      ],
      "metadata": {
        "id": "zh-H_Dh8IR9k"
      }
    },
    {
      "cell_type": "code",
      "source": [
        "def ceil_divide(dividend, divisor) -> int:\n",
        "\n",
        "    res = dividend / divisor\n",
        "\n",
        "    if res != int(res):\n",
        "\n",
        "        res = int(res) + 1\n",
        "\n",
        "    return int(res)"
      ],
      "metadata": {
        "id": "6dm2gf8uFZzX"
      },
      "execution_count": 2,
      "outputs": []
    },
    {
      "cell_type": "code",
      "execution_count": 6,
      "metadata": {
        "id": "14l3DmpbET3h"
      },
      "outputs": [],
      "source": [
        "def is_perfect_square(num: int) -> bool:\n",
        "\n",
        "    left = 1\n",
        "    right = ceil_divide(num, 2)\n",
        "\n",
        "    while left <= right:\n",
        "\n",
        "        mid = (left + right) // 2\n",
        "\n",
        "        sqr = mid ** 2\n",
        "\n",
        "        if sqr == num:\n",
        "\n",
        "            return True\n",
        "\n",
        "        elif sqr < num:\n",
        "\n",
        "            left = mid +1\n",
        "\n",
        "        else:\n",
        "\n",
        "            right = mid - 1\n",
        "\n",
        "    return False"
      ]
    },
    {
      "cell_type": "code",
      "source": [
        "is_perfect_square(16)"
      ],
      "metadata": {
        "colab": {
          "base_uri": "https://localhost:8080/"
        },
        "id": "FNS62PWbH0sT",
        "outputId": "4d040664-df11-4862-965c-9601ba474b8d"
      },
      "execution_count": 7,
      "outputs": [
        {
          "output_type": "execute_result",
          "data": {
            "text/plain": [
              "True"
            ]
          },
          "metadata": {},
          "execution_count": 7
        }
      ]
    },
    {
      "cell_type": "code",
      "source": [
        "is_perfect_square(10)"
      ],
      "metadata": {
        "colab": {
          "base_uri": "https://localhost:8080/"
        },
        "id": "ScajVFFwH5ZL",
        "outputId": "7c757631-ed1a-4b1a-cb4b-4eecb528c7c0"
      },
      "execution_count": 8,
      "outputs": [
        {
          "output_type": "execute_result",
          "data": {
            "text/plain": [
              "False"
            ]
          },
          "metadata": {},
          "execution_count": 8
        }
      ]
    },
    {
      "cell_type": "code",
      "source": [
        "is_perfect_square(144)"
      ],
      "metadata": {
        "colab": {
          "base_uri": "https://localhost:8080/"
        },
        "id": "WB_ffqsqH7Db",
        "outputId": "3fd5b37d-dd3d-4250-cc73-ec8d17e94eb6"
      },
      "execution_count": 11,
      "outputs": [
        {
          "output_type": "execute_result",
          "data": {
            "text/plain": [
              "True"
            ]
          },
          "metadata": {},
          "execution_count": 11
        }
      ]
    },
    {
      "cell_type": "code",
      "source": [
        "is_perfect_square(8)"
      ],
      "metadata": {
        "colab": {
          "base_uri": "https://localhost:8080/"
        },
        "id": "Y16iKG62IBZ9",
        "outputId": "b64125c4-88b3-4d75-fe44-5a1f9c45c1c2"
      },
      "execution_count": 12,
      "outputs": [
        {
          "output_type": "execute_result",
          "data": {
            "text/plain": [
              "False"
            ]
          },
          "metadata": {},
          "execution_count": 12
        }
      ]
    },
    {
      "cell_type": "code",
      "source": [
        "is_perfect_square(9)"
      ],
      "metadata": {
        "colab": {
          "base_uri": "https://localhost:8080/"
        },
        "id": "59rXTEuyIDH2",
        "outputId": "78d33f25-869d-4a3f-ab57-596559a3ff08"
      },
      "execution_count": 13,
      "outputs": [
        {
          "output_type": "execute_result",
          "data": {
            "text/plain": [
              "True"
            ]
          },
          "metadata": {},
          "execution_count": 13
        }
      ]
    }
  ]
}