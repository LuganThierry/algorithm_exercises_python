{
  "nbformat": 4,
  "nbformat_minor": 0,
  "metadata": {
    "colab": {
      "provenance": [],
      "authorship_tag": "ABX9TyM+I9P0oxHhl0RwKd0dyJt0"
    },
    "kernelspec": {
      "name": "python3",
      "display_name": "Python 3"
    },
    "language_info": {
      "name": "python"
    }
  },
  "cells": [
    {
      "cell_type": "markdown",
      "source": [
        "### Relative ranks\n",
        "\n",
        "This exercise requires that, given a list of unique integers representing scores of a competition, you attribute a rank without changing scores' positions.  \n",
        "\n",
        "The first, second and third highest scores should receive 'Gold Medal', 'Silver Medal' and 'Bronze Medal', respectively. The rest should receive their position in the competition."
      ],
      "metadata": {
        "id": "ACQQp508R4yh"
      }
    },
    {
      "cell_type": "code",
      "execution_count": 13,
      "metadata": {
        "id": "NuKR2M11ONAh"
      },
      "outputs": [],
      "source": [
        "def find_relative_ranks(score: list[int]) -> list[int]:\n",
        "\n",
        "    sorted_score = sorted(score, reverse=True)\n",
        "\n",
        "    count = {}\n",
        "\n",
        "    result = []\n",
        "\n",
        "    for i in range(len(sorted_score)):\n",
        "\n",
        "        if i == 0:\n",
        "\n",
        "            count[sorted_score[i]] = \"Gold Medal\"\n",
        "\n",
        "        elif i == 1:\n",
        "\n",
        "            count[sorted_score[i]] = \"Silver Medal\"\n",
        "\n",
        "        elif i == 2:\n",
        "\n",
        "            count[sorted_score[i]] = \"Bronze Medal\"\n",
        "\n",
        "        else:\n",
        "\n",
        "            count[sorted_score[i]] = str(i + 1) + \"th\"\n",
        "\n",
        "    for i in score:\n",
        "\n",
        "            result.append(count[i])\n",
        "\n",
        "    return result"
      ]
    },
    {
      "cell_type": "code",
      "source": [
        "scores = [\n",
        "    [1, 2, 3, 4, 5],\n",
        "    [5, 4, 3, 2, 1],\n",
        "    [15, 1, 14, 2, 13, 3],\n",
        "    [10, 9, 8, 7, 5, 3, 2, 1],\n",
        "    [7, 8, 3, 5, 9, 15, 22],\n",
        "    [0, 1, 3, 6, 4, 9, 88],\n",
        "    [-1, -2, -3, -4, -5]\n",
        "]"
      ],
      "metadata": {
        "id": "Laim9Z2YPt-X"
      },
      "execution_count": 10,
      "outputs": []
    },
    {
      "cell_type": "code",
      "source": [
        "for score in scores:\n",
        "    res = f'In the competion where scores were: {score}, the ranks were: {find_relative_ranks(score)}'\n",
        "    print(res)\n",
        "    print('-'*len(res))"
      ],
      "metadata": {
        "colab": {
          "base_uri": "https://localhost:8080/"
        },
        "id": "yEMhnlf0Qrd3",
        "outputId": "f9593478-f746-433a-f08b-ec7d5e837680"
      },
      "execution_count": 14,
      "outputs": [
        {
          "output_type": "stream",
          "name": "stdout",
          "text": [
            "In the competion where scores were: [1, 2, 3, 4, 5], the ranks were: ['5th', '4th', 'Bronze Medal', 'Silver Medal', 'Gold Medal']\n",
            "---------------------------------------------------------------------------------------------------------------------------------\n",
            "In the competion where scores were: [5, 4, 3, 2, 1], the ranks were: ['Gold Medal', 'Silver Medal', 'Bronze Medal', '4th', '5th']\n",
            "---------------------------------------------------------------------------------------------------------------------------------\n",
            "In the competion where scores were: [15, 1, 14, 2, 13, 3], the ranks were: ['Gold Medal', '6th', 'Silver Medal', '5th', 'Bronze Medal', '4th']\n",
            "----------------------------------------------------------------------------------------------------------------------------------------------\n",
            "In the competion where scores were: [10, 9, 8, 7, 5, 3, 2, 1], the ranks were: ['Gold Medal', 'Silver Medal', 'Bronze Medal', '4th', '5th', '6th', '7th', '8th']\n",
            "----------------------------------------------------------------------------------------------------------------------------------------------------------------\n",
            "In the competion where scores were: [7, 8, 3, 5, 9, 15, 22], the ranks were: ['5th', '4th', '7th', '6th', 'Bronze Medal', 'Silver Medal', 'Gold Medal']\n",
            "-------------------------------------------------------------------------------------------------------------------------------------------------------\n",
            "In the competion where scores were: [0, 1, 3, 6, 4, 9, 88], the ranks were: ['7th', '6th', '5th', 'Bronze Medal', '4th', 'Silver Medal', 'Gold Medal']\n",
            "------------------------------------------------------------------------------------------------------------------------------------------------------\n",
            "In the competion where scores were: [-1, -2, -3, -4, -5], the ranks were: ['Gold Medal', 'Silver Medal', 'Bronze Medal', '4th', '5th']\n",
            "--------------------------------------------------------------------------------------------------------------------------------------\n"
          ]
        }
      ]
    }
  ]
}