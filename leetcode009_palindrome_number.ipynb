{
  "nbformat": 4,
  "nbformat_minor": 0,
  "metadata": {
    "colab": {
      "provenance": [],
      "authorship_tag": "ABX9TyMXfBpJ6ZP2optRq/wBCpy8"
    },
    "kernelspec": {
      "name": "python3",
      "display_name": "Python 3"
    },
    "language_info": {
      "name": "python"
    }
  },
  "cells": [
    {
      "cell_type": "markdown",
      "source": [
        "### Palindrome number\n",
        "\n",
        "This exercise requires that, given an integer number, you verify if it's a palindrome or not.\n",
        "\n",
        "A palindrome is a number that, once it has its digits order reversed, is iqual to the original number."
      ],
      "metadata": {
        "id": "2kyrkIURvzgB"
      }
    },
    {
      "cell_type": "code",
      "execution_count": 9,
      "metadata": {
        "id": "ly5On5AMvumX"
      },
      "outputs": [],
      "source": [
        "def is_palindrome(n: int) -> bool:\n",
        "\n",
        "    if n < 0:\n",
        "\n",
        "        return False\n",
        "\n",
        "    if n == 0:\n",
        "\n",
        "        return True\n",
        "\n",
        "    if n % 10 == 0:\n",
        "\n",
        "        return False\n",
        "\n",
        "    original_n = n\n",
        "    reversed_n = 0\n",
        "\n",
        "    while n > 0:\n",
        "\n",
        "        last_digit = n % 10\n",
        "\n",
        "        reversed_n = reversed_n * 10 + last_digit\n",
        "\n",
        "        n = n // 10\n",
        "\n",
        "    return reversed_n == original_n"
      ]
    },
    {
      "cell_type": "code",
      "source": [
        "nums = [121, 131, 5445, 999, 515, 516, 778, 1000, 0]"
      ],
      "metadata": {
        "id": "8AkFMHn7xYyJ"
      },
      "execution_count": 10,
      "outputs": []
    },
    {
      "cell_type": "code",
      "source": [
        "for n in nums:\n",
        "\n",
        "    print(f'Is {n} a palindrome? {is_palindrome(n)}')"
      ],
      "metadata": {
        "colab": {
          "base_uri": "https://localhost:8080/"
        },
        "id": "b3klXRFgyUsh",
        "outputId": "8487fd37-43c1-4103-ddcd-8f9fd83f83cf"
      },
      "execution_count": 11,
      "outputs": [
        {
          "output_type": "stream",
          "name": "stdout",
          "text": [
            "Is 121 a palindrome? True\n",
            "Is 131 a palindrome? True\n",
            "Is 5445 a palindrome? True\n",
            "Is 999 a palindrome? True\n",
            "Is 515 a palindrome? True\n",
            "Is 516 a palindrome? False\n",
            "Is 778 a palindrome? False\n",
            "Is 1000 a palindrome? False\n",
            "Is 0 a palindrome? True\n"
          ]
        }
      ]
    }
  ]
}